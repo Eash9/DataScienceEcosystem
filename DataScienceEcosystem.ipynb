{
 "cells": [
  {
   "cell_type": "markdown",
   "id": "630878d2-ace9-4142-89e1-6d82a5bd01b9",
   "metadata": {},
   "source": [
    "# Data Science Tools and Ecosystem\n"
   ]
  },
  {
   "cell_type": "markdown",
   "id": "ca02a881-ecba-4131-b1e2-ef581907d5ce",
   "metadata": {},
   "source": [
    "In this notebook, Data Science Tools and Ecosystem are summarized.\n"
   ]
  },
  {
   "cell_type": "markdown",
   "id": "7c2c35ab-71da-4ecd-81ec-5249d6885e85",
   "metadata": {},
   "source": [
    "Some of the popular languages that Data Scientists use are:\r\n",
    "1. Python\r\n",
    "2. R\r\n",
    "3. SQL\r\n",
    "4. Julia\r\n",
    "5. Java\r\n",
    "6. Scala\r\n",
    "7. MATLAB\r\n",
    "8. C++\r\n",
    "9. SAS\r\n",
    "10. JavaScript\r\n",
    "\n"
   ]
  },
  {
   "cell_type": "markdown",
   "id": "3d28ef18-dbaf-4255-9355-b75496970505",
   "metadata": {},
   "source": [
    "Some of the commonly used libraries used by Data Scientists include:\n",
    "1. Pandas\n",
    "2. NumPy\n",
    "3. Matplotlib\n",
    "4. Scikit-learn\n",
    "5. TensorFlow\n",
    "6. PyTorch\n",
    "7. Keras\n",
    "8. Seaborn\n",
    "9. SciPy\n",
    "10. Plotly\n"
   ]
  },
  {
   "cell_type": "markdown",
   "id": "20fd3e91-11f7-47bd-ae41-bbb065400561",
   "metadata": {},
   "source": [
    "| Data Science Tools         |\n",
    "|----------------------------|\n",
    "| Jupyter Notebook            |\n",
    "| RStudio                     |\n",
    "| Apache Zeppelin             |\n",
    "| Spyder                      |\n",
    "| PyCharm                     |\n",
    "| Visual Studio Code          |\n",
    "| Google Colab                |\n",
    "| KNIME                       |\n",
    "| IBM Watson Studio           |\n",
    "| DataRobot                   |\n"
   ]
  },
  {
   "cell_type": "markdown",
   "id": "44ac7155-d658-4e4d-8fad-82e618b79c4e",
   "metadata": {},
   "source": [
    "### Below are a few examples of evaluating arithmetic expressions in Python.\n"
   ]
  },
  {
   "cell_type": "code",
   "execution_count": 9,
   "id": "5f3f21bf-6b54-4bce-9285-785096756b65",
   "metadata": {},
   "outputs": [
    {
     "data": {
      "text/plain": [
       "17"
      ]
     },
     "execution_count": 9,
     "metadata": {},
     "output_type": "execute_result"
    }
   ],
   "source": [
    "(3*4)+5"
   ]
  },
  {
   "cell_type": "code",
   "execution_count": 10,
   "id": "2498d9db-62dd-4669-bbf7-f42b4037b723",
   "metadata": {},
   "outputs": [
    {
     "data": {
      "text/plain": [
       "3.3333333333333335"
      ]
     },
     "execution_count": 10,
     "metadata": {},
     "output_type": "execute_result"
    }
   ],
   "source": [
    "# This will convert 200 minutes to hours by dividing by 60\n",
    "200 / 60\n"
   ]
  },
  {
   "cell_type": "markdown",
   "id": "7dbc92a5-50ab-44f2-aeae-ee87549cc4f8",
   "metadata": {},
   "source": [
    "**Objectives:**\n",
    "\n",
    "- List popular languages for Data Science\n",
    "- List commonly used libraries for Data Science\n",
    "- Create a table of Data Science tools\n",
    "- Evaluate arithmetic expressions in Python\n",
    "- Convert minutes to hours using Python\n"
   ]
  },
  {
   "cell_type": "markdown",
   "id": "66b7b7a9-7ea5-46c7-b6ee-b33583d19bb8",
   "metadata": {},
   "source": [
    "## Author\n",
    "Eashan Maharathi"
   ]
  },
  {
   "cell_type": "code",
   "execution_count": null,
   "id": "e2563959-7423-4623-ae11-ecd0d4c96203",
   "metadata": {},
   "outputs": [],
   "source": []
  }
 ],
 "metadata": {
  "kernelspec": {
   "display_name": "Python 3 (ipykernel)",
   "language": "python",
   "name": "python3"
  },
  "language_info": {
   "codemirror_mode": {
    "name": "ipython",
    "version": 3
   },
   "file_extension": ".py",
   "mimetype": "text/x-python",
   "name": "python",
   "nbconvert_exporter": "python",
   "pygments_lexer": "ipython3",
   "version": "3.11.7"
  }
 },
 "nbformat": 4,
 "nbformat_minor": 5
}
